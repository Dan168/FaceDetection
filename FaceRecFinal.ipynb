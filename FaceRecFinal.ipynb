{
  "nbformat": 4,
  "nbformat_minor": 0,
  "metadata": {
    "colab": {
      "provenance": []
    },
    "kernelspec": {
      "name": "python3",
      "display_name": "Python 3"
    },
    "language_info": {
      "name": "python"
    },
    "accelerator": "GPU",
    "gpuClass": "standard"
  },
  "cells": [
    {
      "cell_type": "markdown",
      "source": [
        "# First attempt at recognising faces using a CNN (TensorFlow and Keras)"
      ],
      "metadata": {
        "id": "ABa9qvK8SEd4"
      }
    },
    {
      "cell_type": "code",
      "source": [
        "from google.colab import drive"
      ],
      "metadata": {
        "id": "BVicJ-fHbUWj"
      },
      "execution_count": null,
      "outputs": []
    },
    {
      "cell_type": "code",
      "source": [
        "drive.mount('/content/drive')"
      ],
      "metadata": {
        "colab": {
          "base_uri": "https://localhost:8080/"
        },
        "id": "2wZV_3FEbe1b",
        "outputId": "0a45aae1-2f2d-43b2-a192-b122c1c2e97a"
      },
      "execution_count": null,
      "outputs": [
        {
          "output_type": "stream",
          "name": "stdout",
          "text": [
            "Mounted at /content/drive\n"
          ]
        }
      ]
    },
    {
      "cell_type": "code",
      "execution_count": null,
      "metadata": {
        "id": "V2fWAH2LSCLk"
      },
      "outputs": [],
      "source": [
        "import tensorflow as tf\n",
        "from sklearn.model_selection import train_test_split\n",
        "\n",
        "import matplotlib.pyplot as plt\n",
        "import numpy as np\n",
        "\n",
        "import keras\n",
        "from keras import *\n",
        "\n",
        "from PIL import Image \n",
        "\n",
        "from tensorflow.keras.models import Sequential\n",
        "from tensorflow.keras.layers import Conv2D, MaxPooling2D, Flatten, Dense\n",
        "from tensorflow.keras import layers, models"
      ]
    },
    {
      "cell_type": "markdown",
      "source": [
        "Import the datasets and inspect "
      ],
      "metadata": {
        "id": "qF5rMvBJL99R"
      }
    },
    {
      "cell_type": "code",
      "source": [
        "pos_dat = np.load('/content/drive/MyDrive/pos_dat.npy')\n",
        "neg_dat = np.load('/content/drive/MyDrive/neg_dat.npy')"
      ],
      "metadata": {
        "id": "4zHQkHloS-nA"
      },
      "execution_count": null,
      "outputs": []
    },
    {
      "cell_type": "code",
      "source": [
        "#1D array = each row is an image and each column is pixels\n",
        "print('POSITIVE: Length: {}, Size: {}, Shape: {}, DType: {}'.format(len(pos_dat), pos_dat.size, pos_dat.shape, pos_dat.dtype))"
      ],
      "metadata": {
        "colab": {
          "base_uri": "https://localhost:8080/"
        },
        "id": "dYMnd9y9Cuep",
        "outputId": "8ccd03fa-8e3c-460d-c95a-7132efaebab4"
      },
      "execution_count": null,
      "outputs": [
        {
          "output_type": "stream",
          "name": "stdout",
          "text": [
            "POSITIVE: Length: 13233, Size: 38560962, Shape: (13233, 2914), DType: float32\n"
          ]
        }
      ]
    },
    {
      "cell_type": "code",
      "source": [
        "print('NEGATIVE: Length: {}, Size: {}, Shape: {}, DType: {}'.format(len(neg_dat), neg_dat.size, neg_dat.shape, neg_dat.dtype))"
      ],
      "metadata": {
        "colab": {
          "base_uri": "https://localhost:8080/"
        },
        "outputId": "0588b56b-08b1-4b4a-d3ad-a20eaaa53f97",
        "id": "Y5LGYuvXI6Ij"
      },
      "execution_count": null,
      "outputs": [
        {
          "output_type": "stream",
          "name": "stdout",
          "text": [
            "NEGATIVE: Length: 30000, Size: 87420000, Shape: (30000, 2914), DType: float64\n"
          ]
        }
      ]
    },
    {
      "cell_type": "markdown",
      "source": [
        "Concat data and split to X and y"
      ],
      "metadata": {
        "id": "nljfLIXQJpLF"
      }
    },
    {
      "cell_type": "code",
      "source": [
        "X = np.concatenate((pos_dat, neg_dat), axis=0)\n",
        "y = np.concatenate((np.ones(len(pos_dat)), np.zeros(len(neg_dat))), axis=0)"
      ],
      "metadata": {
        "id": "ygrZFxwhJtAH"
      },
      "execution_count": null,
      "outputs": []
    },
    {
      "cell_type": "markdown",
      "source": [
        "Reshape the data to a 2D array\n",
        "\n",
        "\n"
      ],
      "metadata": {
        "id": "RRqpRK9x_qk7"
      }
    },
    {
      "cell_type": "code",
      "source": [
        "X = X.reshape((X.shape[0], 62, 47))"
      ],
      "metadata": {
        "id": "h6Sk6KT2_t8T"
      },
      "execution_count": null,
      "outputs": []
    },
    {
      "cell_type": "markdown",
      "source": [
        "# Inspect the data"
      ],
      "metadata": {
        "id": "cluOLqt1vAmj"
      }
    },
    {
      "cell_type": "code",
      "source": [
        "plt.imshow(X[21])\n",
        "plt.show()"
      ],
      "metadata": {
        "colab": {
          "base_uri": "https://localhost:8080/",
          "height": 268
        },
        "id": "Eo2M4vt705eV",
        "outputId": "dd0e45b3-51ec-46a9-96fb-48198478ac32"
      },
      "execution_count": null,
      "outputs": [
        {
          "output_type": "display_data",
          "data": {
            "text/plain": [
              "<Figure size 432x288 with 1 Axes>"
            ],
            "image/png": "[encoded data removed]"
          },
          "metadata": {
            "needs_background": "light"
          }
        }
      ]
    },
    {
      "cell_type": "markdown",
      "source": [
        "Split the data into training and testing data "
      ],
      "metadata": {
        "id": "dkgw6QSQ_HTI"
      }
    },
    {
      "cell_type": "code",
      "source": [
        "X_train, X_test, y_train, y_test = train_test_split(X, y, test_size=0.2, random_state=1)"
      ],
      "metadata": {
        "id": "vSH9T3W9ZLfx"
      },
      "execution_count": null,
      "outputs": []
    },
    {
      "cell_type": "markdown",
      "source": [
        "Normalise each pixel data between 0-1. "
      ],
      "metadata": {
        "id": "pO5c8apr_Sef"
      }
    },
    {
      "cell_type": "code",
      "source": [
        "X_train = X_train.astype('float32') / 255.0 \n",
        "X_test = X_test.astype('float32') / 255.0 "
      ],
      "metadata": {
        "id": "6fEVzUsN_Yn9"
      },
      "execution_count": null,
      "outputs": []
    },
    {
      "cell_type": "markdown",
      "source": [
        "Add an extra dimension "
      ],
      "metadata": {
        "id": "z7qZ7FN58E4J"
      }
    },
    {
      "cell_type": "code",
      "source": [
        "X_train = np.expand_dims(X_train, axis=-1)\n",
        "X_test = np.expand_dims(X_test, axis=-1)"
      ],
      "metadata": {
        "id": "zASPDX-cn_Ez"
      },
      "execution_count": null,
      "outputs": []
    },
    {
      "cell_type": "markdown",
      "source": [
        "# CNN Model"
      ],
      "metadata": {
        "id": "uihcFevsNKhb"
      }
    },
    {
      "cell_type": "code",
      "source": [
        "model = tf.keras.models.Sequential([\n",
        "    tf.keras.layers.Conv2D(32, (3, 3), activation='sigmoid', input_shape=(62, 47, 1)),\n",
        "    tf.keras.layers.MaxPooling2D((2, 2)),\n",
        "    tf.keras.layers.Conv2D(64, (3, 3), activation='sigmoid'),\n",
        "    tf.keras.layers.MaxPooling2D((2, 2)),\n",
        "    tf.keras.layers.Conv2D(128, (3, 3), activation='sigmoid'),\n",
        "    tf.keras.layers.MaxPooling2D((2, 2)),\n",
        "    tf.keras.layers.Conv2D(64, (3, 3), activation='sigmoid'),\n",
        "    tf.keras.layers.MaxPooling2D((2, 2)),\n",
        "    tf.keras.layers.Flatten(),\n",
        "    tf.keras.layers.Dense(32, activation='sigmoid'),\n",
        "    tf.keras.layers.Dropout(0.5),\n",
        "    tf.keras.layers.Dense(1, activation='sigmoid')\n",
        "])"
      ],
      "metadata": {
        "id": "Bts4mO4uikll"
      },
      "execution_count": null,
      "outputs": []
    },
    {
      "cell_type": "markdown",
      "source": [
        "Compile the model"
      ],
      "metadata": {
        "id": "EQynHke2SFxn"
      }
    },
    {
      "cell_type": "code",
      "source": [
        "model.compile(optimizer='adam', loss='binary_crossentropy', metrics=['accuracy'])"
      ],
      "metadata": {
        "id": "Ob7qfxeDNNf8"
      },
      "execution_count": null,
      "outputs": []
    },
    {
      "cell_type": "code",
      "source": [
        "model.summary()"
      ],
      "metadata": {
        "colab": {
          "base_uri": "https://localhost:8080/"
        },
        "id": "UZdh2OskgPPt",
        "outputId": "6cca0262-3ff1-44fd-a0ef-4b0fddf23a04"
      },
      "execution_count": null,
      "outputs": [
        {
          "output_type": "stream",
          "name": "stdout",
          "text": [
            "Model: \"sequential_1\"\n",
            "_________________________________________________________________\n",
            " Layer (type)                Output Shape              Param #   \n",
            "=================================================================\n",
            " conv2d_3 (Conv2D)           (None, 60, 45, 32)        320       \n",
            "                                                                 \n",
            " max_pooling2d_3 (MaxPooling  (None, 30, 22, 32)       0         \n",
            " 2D)                                                             \n",
            "                                                                 \n",
            " conv2d_4 (Conv2D)           (None, 28, 20, 64)        18496     \n",
            "                                                                 \n",
            " max_pooling2d_4 (MaxPooling  (None, 14, 10, 64)       0         \n",
            " 2D)                                                             \n",
            "                                                                 \n",
            " conv2d_5 (Conv2D)           (None, 12, 8, 128)        73856     \n",
            "                                                                 \n",
            " max_pooling2d_5 (MaxPooling  (None, 6, 4, 128)        0         \n",
            " 2D)                                                             \n",
            "                                                                 \n",
            " conv2d_6 (Conv2D)           (None, 4, 2, 64)          73792     \n",
            "                                                                 \n",
            " max_pooling2d_6 (MaxPooling  (None, 2, 1, 64)         0         \n",
            " 2D)                                                             \n",
            "                                                                 \n",
            " flatten_1 (Flatten)         (None, 128)               0         \n",
            "                                                                 \n",
            " dense_2 (Dense)             (None, 32)                4128      \n",
            "                                                                 \n",
            " dropout_1 (Dropout)         (None, 32)                0         \n",
            "                                                                 \n",
            " dense_3 (Dense)             (None, 1)                 33        \n",
            "                                                                 \n",
            "=================================================================\n",
            "Total params: 170,625\n",
            "Trainable params: 170,625\n",
            "Non-trainable params: 0\n",
            "_________________________________________________________________\n"
          ]
        }
      ]
    },
    {
      "cell_type": "markdown",
      "source": [
        "Train the model"
      ],
      "metadata": {
        "id": "PmT33EzHSIz2"
      }
    },
    {
      "cell_type": "code",
      "source": [
        "history = model.fit(X_train, y_train, epochs=20, validation_data=(X_test, y_test))"
      ],
      "metadata": {
        "id": "UZ1DCk4sSDiW",
        "colab": {
          "base_uri": "https://localhost:8080/"
        },
        "outputId": "bc87487b-f605-4c5a-ddc0-f6f8cfaac232"
      },
      "execution_count": null,
      "outputs": [
        {
          "output_type": "stream",
          "name": "stdout",
          "text": [
            "Epoch 1/20\n",
            "1081/1081 [==============================] - 10s 7ms/step - loss: 0.6254 - accuracy: 0.6905 - val_loss: 0.6214 - val_accuracy: 0.6879\n",
            "Epoch 2/20\n",
            "1081/1081 [==============================] - 7s 6ms/step - loss: 0.6179 - accuracy: 0.6954 - val_loss: 0.6208 - val_accuracy: 0.6879\n",
            "Epoch 3/20\n",
            "1081/1081 [==============================] - 8s 8ms/step - loss: 0.6173 - accuracy: 0.6954 - val_loss: 0.6216 - val_accuracy: 0.6879\n",
            "Epoch 4/20\n",
            "1081/1081 [==============================] - 7s 7ms/step - loss: 0.6164 - accuracy: 0.6954 - val_loss: 0.6212 - val_accuracy: 0.6879\n",
            "Epoch 5/20\n",
            "1081/1081 [==============================] - 8s 8ms/step - loss: 0.6103 - accuracy: 0.6954 - val_loss: 0.4997 - val_accuracy: 0.6879\n",
            "Epoch 6/20\n",
            "1081/1081 [==============================] - 7s 7ms/step - loss: 0.4712 - accuracy: 0.6919 - val_loss: 0.4647 - val_accuracy: 0.6879\n",
            "Epoch 7/20\n",
            "1081/1081 [==============================] - 8s 8ms/step - loss: 0.4637 - accuracy: 0.6945 - val_loss: 0.4614 - val_accuracy: 0.6879\n",
            "Epoch 8/20\n",
            "1081/1081 [==============================] - 8s 8ms/step - loss: 0.4399 - accuracy: 0.7239 - val_loss: 0.2092 - val_accuracy: 0.9308\n",
            "Epoch 9/20\n",
            "1081/1081 [==============================] - 7s 6ms/step - loss: 0.1240 - accuracy: 0.9554 - val_loss: 0.0582 - val_accuracy: 0.9777\n",
            "Epoch 10/20\n",
            "1081/1081 [==============================] - 8s 8ms/step - loss: 0.0641 - accuracy: 0.9781 - val_loss: 0.0398 - val_accuracy: 0.9861\n",
            "Epoch 11/20\n",
            "1081/1081 [==============================] - 7s 7ms/step - loss: 0.0462 - accuracy: 0.9846 - val_loss: 0.0423 - val_accuracy: 0.9833\n",
            "Epoch 12/20\n",
            "1081/1081 [==============================] - 8s 7ms/step - loss: 0.0380 - accuracy: 0.9869 - val_loss: 0.0309 - val_accuracy: 0.9895\n",
            "Epoch 13/20\n",
            "1081/1081 [==============================] - 8s 7ms/step - loss: 0.0303 - accuracy: 0.9895 - val_loss: 0.0237 - val_accuracy: 0.9926\n",
            "Epoch 14/20\n",
            "1081/1081 [==============================] - 7s 7ms/step - loss: 0.0266 - accuracy: 0.9908 - val_loss: 0.0197 - val_accuracy: 0.9940\n",
            "Epoch 15/20\n",
            "1081/1081 [==============================] - 8s 7ms/step - loss: 0.0232 - accuracy: 0.9924 - val_loss: 0.0197 - val_accuracy: 0.9940\n",
            "Epoch 16/20\n",
            "1081/1081 [==============================] - 7s 6ms/step - loss: 0.0200 - accuracy: 0.9932 - val_loss: 0.0172 - val_accuracy: 0.9949\n",
            "Epoch 17/20\n",
            "1081/1081 [==============================] - 8s 7ms/step - loss: 0.0176 - accuracy: 0.9943 - val_loss: 0.0165 - val_accuracy: 0.9950\n",
            "Epoch 18/20\n",
            "1081/1081 [==============================] - 7s 6ms/step - loss: 0.0151 - accuracy: 0.9948 - val_loss: 0.0152 - val_accuracy: 0.9954\n",
            "Epoch 19/20\n",
            "1081/1081 [==============================] - 8s 7ms/step - loss: 0.0163 - accuracy: 0.9944 - val_loss: 0.0195 - val_accuracy: 0.9941\n",
            "Epoch 20/20\n",
            "1081/1081 [==============================] - 12s 11ms/step - loss: 0.0131 - accuracy: 0.9957 - val_loss: 0.0240 - val_accuracy: 0.9931\n"
          ]
        }
      ]
    },
    {
      "cell_type": "markdown",
      "source": [
        "Plot a line graph to see accuracy over each epoch"
      ],
      "metadata": {
        "id": "4itbJX9TSxmA"
      }
    },
    {
      "cell_type": "code",
      "source": [
        "plt.plot(history.history['accuracy'], label='accuracy')\n",
        "plt.xlabel('Epoch')\n",
        "plt.ylabel('Accuracy')\n",
        "plt.ylim([0.65, 1])\n",
        "plt.legend(loc='lower right')\n",
        "\n",
        "test_loss, test_acc = model.evaluate(X_test,  y_test, verbose=2)"
      ],
      "metadata": {
        "id": "XvvLrVLiS1_w",
        "colab": {
          "base_uri": "https://localhost:8080/",
          "height": 301
        },
        "outputId": "805aa9e9-d8b6-4eaa-c9f6-fe80d742f092"
      },
      "execution_count": null,
      "outputs": [
        {
          "output_type": "stream",
          "name": "stdout",
          "text": [
            "271/271 - 1s - loss: 0.0240 - accuracy: 0.9931 - 1s/epoch - 5ms/step\n"
          ]
        },
        {
          "output_type": "display_data",
          "data": {
            "text/plain": [
              "<Figure size 432x288 with 1 Axes>"
            ],
            "image/png": "[encoded data removed]"
          },
          "metadata": {
            "needs_background": "light"
          }
        }
      ]
    },
    {
      "cell_type": "code",
      "source": [
        "print('LOSS: {}, ACCURACY: {}'.format(test_loss, test_acc))"
      ],
      "metadata": {
        "id": "IJANBvkCTMcZ",
        "colab": {
          "base_uri": "https://localhost:8080/"
        },
        "outputId": "36a63b7e-6d09-4f21-e5ad-b4b6c4060510"
      },
      "execution_count": null,
      "outputs": [
        {
          "output_type": "stream",
          "name": "stdout",
          "text": [
            "LOSS: 0.02396664395928383, ACCURACY: 0.9930611848831177\n"
          ]
        }
      ]
    },
    {
      "cell_type": "markdown",
      "source": [
        "Test the model on new images"
      ],
      "metadata": {
        "id": "9un4Ti_YSKw2"
      }
    },
    {
      "cell_type": "code",
      "source": [
        "img = Image.open('/content/face.jpeg').convert(\"L\")\n",
        "# Resize the image to the desired shape\n",
        "img = img.resize((47, 62))\n",
        "\n",
        "# Convert the image to a numpy array and normalize the pixel values\n",
        "img_array = np.array(img) / 255.0\n",
        "\n",
        "# Add a new dimension to the array to make it compatible with the model\n",
        "img_array = np.expand_dims(img_array, axis=-1)\n",
        "img_array = np.expand_dims(img_array, axis=0)\n",
        "\n",
        "# Make a prediction using the model\n",
        "prediction = model.predict(img_array)[0][0]\n"
      ],
      "metadata": {
        "id": "9NGBs7sVSA-R",
        "colab": {
          "base_uri": "https://localhost:8080/"
        },
        "outputId": "852aab40-84aa-495f-f037-be73963d2520"
      },
      "execution_count": null,
      "outputs": [
        {
          "output_type": "stream",
          "name": "stdout",
          "text": [
            "1/1 [==============================] - 0s 40ms/step\n"
          ]
        }
      ]
    },
    {
      "cell_type": "code",
      "source": [
        "if prediction > 0.65:\n",
        "  print('This image likely contains a face. ({}% confidence)'.format(round(prediction*100, 2)))\n",
        "else:\n",
        "  print('This image likely does not contain a face.')"
      ],
      "metadata": {
        "colab": {
          "base_uri": "https://localhost:8080/"
        },
        "id": "53rKDOtGOcT1",
        "outputId": "fcbc8ec7-8c21-4e15-bd39-47a3e908fca4"
      },
      "execution_count": null,
      "outputs": [
        {
          "output_type": "stream",
          "name": "stdout",
          "text": [
            "This image likely contains a face. (99.74% confidence)\n"
          ]
        }
      ]
    },
    {
      "cell_type": "code",
      "source": [
        "plt.imshow(img)\n",
        "plt.plot()"
      ],
      "metadata": {
        "colab": {
          "base_uri": "https://localhost:8080/",
          "height": 286
        },
        "id": "mYOBSplytRMF",
        "outputId": "97572a77-5f63-4087-8c51-340e588ce309"
      },
      "execution_count": null,
      "outputs": [
        {
          "output_type": "execute_result",
          "data": {
            "text/plain": [
              "[]"
            ]
          },
          "metadata": {},
          "execution_count": 80
        },
        {
          "output_type": "display_data",
          "data": {
            "text/plain": [
              "<Figure size 432x288 with 1 Axes>"
            ],
            "image/png": "[encoded data removed]"
          },
          "metadata": {
            "needs_background": "light"
          }
        }
      ]
    },
    {
      "cell_type": "markdown",
      "source": [
        "If it works, save the model with pickle"
      ],
      "metadata": {
        "id": "8bmsDmE5Ucve"
      }
    },
    {
      "cell_type": "code",
      "source": [
        "model.save('FaceDetection.h5')"
      ],
      "metadata": {
        "id": "hHRlqqOkYBGf"
      },
      "execution_count": null,
      "outputs": []
    },
    {
      "cell_type": "code",
      "source": [],
      "metadata": {
        "id": "008KfkO9YFKW"
      },
      "execution_count": null,
      "outputs": []
    }
  ]
}